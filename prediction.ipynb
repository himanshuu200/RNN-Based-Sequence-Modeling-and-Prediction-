{
 "cells": [
  {
   "cell_type": "code",
   "execution_count": 1,
   "metadata": {},
   "outputs": [],
   "source": [
    "# Step 1: Import Libraries and Load the Model\n",
    "import numpy as np\n",
    "import tensorflow as tf\n",
    "from tensorflow.keras.datasets import imdb\n",
    "from tensorflow.keras.preprocessing import sequence\n",
    "from tensorflow.keras.models import load_model"
   ]
  },
  {
   "cell_type": "code",
   "execution_count": 2,
   "metadata": {},
   "outputs": [],
   "source": [
    "\n",
    "# Load the IMDB dataset word index\n",
    "word_index = imdb.get_word_index()\n",
    "reverse_word_index = {value: key for key, value in word_index.items()}"
   ]
  },
  {
   "cell_type": "code",
   "execution_count": 3,
   "metadata": {},
   "outputs": [
    {
     "name": "stderr",
     "output_type": "stream",
     "text": [
      "WARNING:absl:Compiled the loaded model, but the compiled metrics have yet to be built. `model.compile_metrics` will be empty until you train or evaluate the model.\n"
     ]
    },
    {
     "data": {
      "text/html": [
       "<pre style=\"white-space:pre;overflow-x:auto;line-height:normal;font-family:Menlo,'DejaVu Sans Mono',consolas,'Courier New',monospace\"><span style=\"font-weight: bold\">Model: \"sequential\"</span>\n",
       "</pre>\n"
      ],
      "text/plain": [
       "\u001b[1mModel: \"sequential\"\u001b[0m\n"
      ]
     },
     "metadata": {},
     "output_type": "display_data"
    },
    {
     "data": {
      "text/html": [
       "<pre style=\"white-space:pre;overflow-x:auto;line-height:normal;font-family:Menlo,'DejaVu Sans Mono',consolas,'Courier New',monospace\">┏━━━━━━━━━━━━━━━━━━━━━━━━━━━━━━━━━┳━━━━━━━━━━━━━━━━━━━━━━━━┳━━━━━━━━━━━━━━━┓\n",
       "┃<span style=\"font-weight: bold\"> Layer (type)                    </span>┃<span style=\"font-weight: bold\"> Output Shape           </span>┃<span style=\"font-weight: bold\">       Param # </span>┃\n",
       "┡━━━━━━━━━━━━━━━━━━━━━━━━━━━━━━━━━╇━━━━━━━━━━━━━━━━━━━━━━━━╇━━━━━━━━━━━━━━━┩\n",
       "│ embedding (<span style=\"color: #0087ff; text-decoration-color: #0087ff\">Embedding</span>)           │ (<span style=\"color: #00af00; text-decoration-color: #00af00\">32</span>, <span style=\"color: #00af00; text-decoration-color: #00af00\">500</span>, <span style=\"color: #00af00; text-decoration-color: #00af00\">128</span>)         │     <span style=\"color: #00af00; text-decoration-color: #00af00\">1,280,000</span> │\n",
       "├─────────────────────────────────┼────────────────────────┼───────────────┤\n",
       "│ simple_rnn (<span style=\"color: #0087ff; text-decoration-color: #0087ff\">SimpleRNN</span>)          │ (<span style=\"color: #00af00; text-decoration-color: #00af00\">32</span>, <span style=\"color: #00af00; text-decoration-color: #00af00\">128</span>)              │        <span style=\"color: #00af00; text-decoration-color: #00af00\">32,896</span> │\n",
       "├─────────────────────────────────┼────────────────────────┼───────────────┤\n",
       "│ dense (<span style=\"color: #0087ff; text-decoration-color: #0087ff\">Dense</span>)                   │ (<span style=\"color: #00af00; text-decoration-color: #00af00\">32</span>, <span style=\"color: #00af00; text-decoration-color: #00af00\">1</span>)                │           <span style=\"color: #00af00; text-decoration-color: #00af00\">129</span> │\n",
       "└─────────────────────────────────┴────────────────────────┴───────────────┘\n",
       "</pre>\n"
      ],
      "text/plain": [
       "┏━━━━━━━━━━━━━━━━━━━━━━━━━━━━━━━━━┳━━━━━━━━━━━━━━━━━━━━━━━━┳━━━━━━━━━━━━━━━┓\n",
       "┃\u001b[1m \u001b[0m\u001b[1mLayer (type)                   \u001b[0m\u001b[1m \u001b[0m┃\u001b[1m \u001b[0m\u001b[1mOutput Shape          \u001b[0m\u001b[1m \u001b[0m┃\u001b[1m \u001b[0m\u001b[1m      Param #\u001b[0m\u001b[1m \u001b[0m┃\n",
       "┡━━━━━━━━━━━━━━━━━━━━━━━━━━━━━━━━━╇━━━━━━━━━━━━━━━━━━━━━━━━╇━━━━━━━━━━━━━━━┩\n",
       "│ embedding (\u001b[38;5;33mEmbedding\u001b[0m)           │ (\u001b[38;5;34m32\u001b[0m, \u001b[38;5;34m500\u001b[0m, \u001b[38;5;34m128\u001b[0m)         │     \u001b[38;5;34m1,280,000\u001b[0m │\n",
       "├─────────────────────────────────┼────────────────────────┼───────────────┤\n",
       "│ simple_rnn (\u001b[38;5;33mSimpleRNN\u001b[0m)          │ (\u001b[38;5;34m32\u001b[0m, \u001b[38;5;34m128\u001b[0m)              │        \u001b[38;5;34m32,896\u001b[0m │\n",
       "├─────────────────────────────────┼────────────────────────┼───────────────┤\n",
       "│ dense (\u001b[38;5;33mDense\u001b[0m)                   │ (\u001b[38;5;34m32\u001b[0m, \u001b[38;5;34m1\u001b[0m)                │           \u001b[38;5;34m129\u001b[0m │\n",
       "└─────────────────────────────────┴────────────────────────┴───────────────┘\n"
      ]
     },
     "metadata": {},
     "output_type": "display_data"
    },
    {
     "data": {
      "text/html": [
       "<pre style=\"white-space:pre;overflow-x:auto;line-height:normal;font-family:Menlo,'DejaVu Sans Mono',consolas,'Courier New',monospace\"><span style=\"font-weight: bold\"> Total params: </span><span style=\"color: #00af00; text-decoration-color: #00af00\">1,313,027</span> (5.01 MB)\n",
       "</pre>\n"
      ],
      "text/plain": [
       "\u001b[1m Total params: \u001b[0m\u001b[38;5;34m1,313,027\u001b[0m (5.01 MB)\n"
      ]
     },
     "metadata": {},
     "output_type": "display_data"
    },
    {
     "data": {
      "text/html": [
       "<pre style=\"white-space:pre;overflow-x:auto;line-height:normal;font-family:Menlo,'DejaVu Sans Mono',consolas,'Courier New',monospace\"><span style=\"font-weight: bold\"> Trainable params: </span><span style=\"color: #00af00; text-decoration-color: #00af00\">1,313,025</span> (5.01 MB)\n",
       "</pre>\n"
      ],
      "text/plain": [
       "\u001b[1m Trainable params: \u001b[0m\u001b[38;5;34m1,313,025\u001b[0m (5.01 MB)\n"
      ]
     },
     "metadata": {},
     "output_type": "display_data"
    },
    {
     "data": {
      "text/html": [
       "<pre style=\"white-space:pre;overflow-x:auto;line-height:normal;font-family:Menlo,'DejaVu Sans Mono',consolas,'Courier New',monospace\"><span style=\"font-weight: bold\"> Non-trainable params: </span><span style=\"color: #00af00; text-decoration-color: #00af00\">0</span> (0.00 B)\n",
       "</pre>\n"
      ],
      "text/plain": [
       "\u001b[1m Non-trainable params: \u001b[0m\u001b[38;5;34m0\u001b[0m (0.00 B)\n"
      ]
     },
     "metadata": {},
     "output_type": "display_data"
    },
    {
     "data": {
      "text/html": [
       "<pre style=\"white-space:pre;overflow-x:auto;line-height:normal;font-family:Menlo,'DejaVu Sans Mono',consolas,'Courier New',monospace\"><span style=\"font-weight: bold\"> Optimizer params: </span><span style=\"color: #00af00; text-decoration-color: #00af00\">2</span> (12.00 B)\n",
       "</pre>\n"
      ],
      "text/plain": [
       "\u001b[1m Optimizer params: \u001b[0m\u001b[38;5;34m2\u001b[0m (12.00 B)\n"
      ]
     },
     "metadata": {},
     "output_type": "display_data"
    }
   ],
   "source": [
    "# Load the pre-trained model with ReLU activation\n",
    "model = load_model('simple_rnn_imdb.h5')\n",
    "model.summary()"
   ]
  },
  {
   "cell_type": "code",
   "execution_count": 4,
   "metadata": {},
   "outputs": [
    {
     "data": {
      "text/plain": [
       "[array([[-0.32799938,  0.08833957,  0.1809007 , ...,  0.39459014,\n",
       "          0.2522331 ,  0.24011743],\n",
       "        [-0.08466879,  0.02720998,  0.07162467, ...,  0.00203911,\n",
       "          0.06635736,  0.01620269],\n",
       "        [-0.09963703, -0.01120759,  0.02946284, ...,  0.01822151,\n",
       "          0.10013577,  0.07473795],\n",
       "        ...,\n",
       "        [-0.05291452, -0.01555728,  0.04620795, ..., -0.00429446,\n",
       "         -0.01706381, -0.00976405],\n",
       "        [ 0.01734839,  0.02980265, -0.02050186, ...,  0.03929449,\n",
       "          0.0221982 ,  0.00231961],\n",
       "        [ 0.10396542,  0.02459835, -0.04214212, ...,  0.03460709,\n",
       "         -0.07354408, -0.0871233 ]], dtype=float32),\n",
       " array([[-0.0234781 ,  0.1204072 , -0.0780488 , ..., -0.16033675,\n",
       "          0.12229893,  0.03757196],\n",
       "        [-0.01777308, -0.08159135, -0.12850648, ..., -0.16551736,\n",
       "         -0.01815282, -0.08429064],\n",
       "        [ 0.10121606, -0.13741705, -0.1390334 , ...,  0.11620473,\n",
       "          0.09155953, -0.06405631],\n",
       "        ...,\n",
       "        [-0.16812316, -0.11081342, -0.10013643, ..., -0.08547603,\n",
       "         -0.06471276, -0.06422544],\n",
       "        [-0.05403625, -0.06517711,  0.07947838, ...,  0.17709048,\n",
       "         -0.13209108, -0.00836331],\n",
       "        [-0.06094466,  0.09385217, -0.04026507, ..., -0.09957843,\n",
       "         -0.01642835,  0.07655785]], dtype=float32),\n",
       " array([[-0.08870022,  0.13903694, -0.04776729, ..., -0.03801419,\n",
       "         -0.00226349, -0.13260305],\n",
       "        [ 0.11284804, -0.04141826, -0.00995422, ...,  0.07639706,\n",
       "          0.02150147,  0.1047121 ],\n",
       "        [ 0.06457191, -0.200194  , -0.04025241, ..., -0.01375178,\n",
       "         -0.07133393, -0.02620158],\n",
       "        ...,\n",
       "        [ 0.06153743, -0.15047212, -0.11013388, ..., -0.08142367,\n",
       "          0.06770559, -0.00156291],\n",
       "        [ 0.05658961, -0.07823522, -0.10392382, ...,  0.07148041,\n",
       "          0.00742672,  0.04461341],\n",
       "        [ 0.07095136, -0.06123196,  0.09182925, ..., -0.13365582,\n",
       "          0.17155154, -0.02768368]], dtype=float32),\n",
       " array([ 0.02775552, -0.01669535,  0.01918767, -0.00351806, -0.02496615,\n",
       "         0.01607956,  0.00438277,  0.01765398,  0.01337279,  0.01419517,\n",
       "        -0.01202479, -0.02074579, -0.01525755,  0.02158681,  0.00372636,\n",
       "         0.02923658, -0.04709138,  0.00647448,  0.02254695,  0.02463068,\n",
       "        -0.01088479,  0.0010576 , -0.01181885, -0.01551013, -0.045762  ,\n",
       "         0.01558863, -0.01694518,  0.01062582, -0.01828763, -0.01140475,\n",
       "        -0.00405434,  0.02673288, -0.00907965, -0.01250369, -0.01226848,\n",
       "        -0.02445292, -0.01327901, -0.00709486,  0.00346636,  0.026862  ,\n",
       "        -0.02622216, -0.01655089,  0.02505422,  0.03387673,  0.00145686,\n",
       "         0.02269728, -0.01632786,  0.01087459,  0.04357561, -0.00307639,\n",
       "         0.00459498, -0.02066883, -0.0089949 , -0.02565024,  0.00751472,\n",
       "        -0.02401536, -0.01804202,  0.03246174, -0.00463721,  0.00780267,\n",
       "        -0.00057522, -0.05212187,  0.02067049,  0.01698067, -0.01341653,\n",
       "         0.0280666 , -0.01554536, -0.01437858, -0.0106952 ,  0.0122539 ,\n",
       "        -0.01626076, -0.0100262 , -0.02700043,  0.01515303, -0.0206514 ,\n",
       "        -0.01723324,  0.0074527 , -0.00098123, -0.00782986, -0.00409058,\n",
       "        -0.00488369, -0.00257303,  0.00248311, -0.0101063 , -0.01841348,\n",
       "         0.02791326,  0.02743063,  0.01144154,  0.00784744,  0.03515181,\n",
       "        -0.00963208,  0.00440171, -0.00396791, -0.03173698,  0.00219639,\n",
       "         0.01835733, -0.01295484, -0.00545235,  0.00398402, -0.01173109,\n",
       "        -0.00972491, -0.00791554,  0.01583563,  0.01262856,  0.00575379,\n",
       "        -0.02182876, -0.02948814, -0.02023478,  0.01135082, -0.01151716,\n",
       "        -0.00978122, -0.0237242 ,  0.01787304,  0.03079714,  0.00738552,\n",
       "        -0.00456663, -0.01986254, -0.03885913, -0.03174266, -0.02455817,\n",
       "        -0.00602599, -0.01711638, -0.01606148,  0.00112511, -0.01100411,\n",
       "         0.01154697, -0.00568263,  0.00065171], dtype=float32),\n",
       " array([[-0.06822402],\n",
       "        [ 0.21450247],\n",
       "        [ 0.08065435],\n",
       "        [ 0.15915176],\n",
       "        [-0.00466122],\n",
       "        [-0.1931269 ],\n",
       "        [ 0.09658662],\n",
       "        [ 0.14500815],\n",
       "        [ 0.0298256 ],\n",
       "        [ 0.14966713],\n",
       "        [-0.22573736],\n",
       "        [ 0.11064719],\n",
       "        [ 0.18308075],\n",
       "        [-0.12049514],\n",
       "        [ 0.07360295],\n",
       "        [-0.14009744],\n",
       "        [-0.24534048],\n",
       "        [ 0.0909519 ],\n",
       "        [ 0.23790835],\n",
       "        [-0.13416395],\n",
       "        [ 0.18768393],\n",
       "        [ 0.04739678],\n",
       "        [ 0.17191008],\n",
       "        [-0.19645512],\n",
       "        [ 0.32130414],\n",
       "        [-0.05173278],\n",
       "        [ 0.07166112],\n",
       "        [ 0.1842897 ],\n",
       "        [-0.14556205],\n",
       "        [-0.11075424],\n",
       "        [ 0.03690231],\n",
       "        [-0.02688057],\n",
       "        [-0.862396  ],\n",
       "        [-0.204761  ],\n",
       "        [-0.18437101],\n",
       "        [-0.01798269],\n",
       "        [-0.45718998],\n",
       "        [-0.15464437],\n",
       "        [-0.09290424],\n",
       "        [-0.06938569],\n",
       "        [-0.14580281],\n",
       "        [ 0.16730967],\n",
       "        [-0.13428767],\n",
       "        [ 0.09933563],\n",
       "        [ 0.38602293],\n",
       "        [-0.1529471 ],\n",
       "        [ 0.08972077],\n",
       "        [ 0.10734784],\n",
       "        [-0.22342552],\n",
       "        [-0.11660637],\n",
       "        [ 0.014457  ],\n",
       "        [-0.11601428],\n",
       "        [-0.03199496],\n",
       "        [ 0.02013278],\n",
       "        [ 0.057955  ],\n",
       "        [-0.2033699 ],\n",
       "        [-0.20672742],\n",
       "        [-0.09798186],\n",
       "        [ 0.12481223],\n",
       "        [-0.033844  ],\n",
       "        [ 0.01265536],\n",
       "        [ 0.00123193],\n",
       "        [-0.17557867],\n",
       "        [ 0.03287053],\n",
       "        [-0.07863873],\n",
       "        [ 0.00453263],\n",
       "        [ 0.1143394 ],\n",
       "        [ 0.07034516],\n",
       "        [-0.23430662],\n",
       "        [ 0.12199068],\n",
       "        [ 0.1690697 ],\n",
       "        [ 0.16889665],\n",
       "        [-0.02326468],\n",
       "        [-0.15582208],\n",
       "        [-0.05616956],\n",
       "        [ 0.20797455],\n",
       "        [-0.10383504],\n",
       "        [-0.06791911],\n",
       "        [ 0.08887551],\n",
       "        [ 0.10992025],\n",
       "        [ 0.19698077],\n",
       "        [ 0.23341101],\n",
       "        [-0.04562977],\n",
       "        [ 0.18056634],\n",
       "        [ 0.21064162],\n",
       "        [-0.09121474],\n",
       "        [-0.12428822],\n",
       "        [-0.12319278],\n",
       "        [ 0.06872378],\n",
       "        [-0.21388435],\n",
       "        [-0.06350371],\n",
       "        [ 0.19220999],\n",
       "        [ 0.14746968],\n",
       "        [ 0.7090428 ],\n",
       "        [-0.21687989],\n",
       "        [-0.20638719],\n",
       "        [-0.05184558],\n",
       "        [ 0.0838468 ],\n",
       "        [ 0.01348835],\n",
       "        [-0.19270253],\n",
       "        [ 0.08257434],\n",
       "        [ 0.14055009],\n",
       "        [ 0.22062258],\n",
       "        [ 0.20364967],\n",
       "        [ 0.01864272],\n",
       "        [-0.10562587],\n",
       "        [-0.07153668],\n",
       "        [ 0.00792084],\n",
       "        [ 0.00153413],\n",
       "        [-0.09448643],\n",
       "        [-0.04786929],\n",
       "        [-0.11587318],\n",
       "        [-0.23165058],\n",
       "        [-0.24216303],\n",
       "        [ 0.2657054 ],\n",
       "        [ 0.10087743],\n",
       "        [ 0.05601846],\n",
       "        [ 0.20933785],\n",
       "        [-0.18700245],\n",
       "        [ 0.19274655],\n",
       "        [-0.8828299 ],\n",
       "        [ 0.09874834],\n",
       "        [ 0.00690219],\n",
       "        [-0.06130243],\n",
       "        [-0.20811784],\n",
       "        [-0.01884949],\n",
       "        [ 0.23236223],\n",
       "        [-0.13760948]], dtype=float32),\n",
       " array([0.3867558], dtype=float32)]"
      ]
     },
     "execution_count": 4,
     "metadata": {},
     "output_type": "execute_result"
    }
   ],
   "source": [
    "model.get_weights()"
   ]
  },
  {
   "cell_type": "code",
   "execution_count": 5,
   "metadata": {},
   "outputs": [],
   "source": [
    "# Step 2: Helper Functions\n",
    "# Function to decode reviews\n",
    "def decode_review(encoded_review):\n",
    "    return ' '.join([reverse_word_index.get(i - 3, '?') for i in encoded_review])\n",
    "\n",
    "# Function to preprocess user input\n",
    "def preprocess_text(text):\n",
    "    words = text.lower().split()\n",
    "    encoded_review = [word_index.get(word, 2) + 3 for word in words]\n",
    "    padded_review = sequence.pad_sequences([encoded_review], maxlen=500)\n",
    "    return padded_review"
   ]
  },
  {
   "cell_type": "code",
   "execution_count": 6,
   "metadata": {},
   "outputs": [],
   "source": [
    "### Prediction  function\n",
    "\n",
    "def predict_sentiment(review):\n",
    "    preprocessed_input=preprocess_text(review)\n",
    "\n",
    "    prediction=model.predict(preprocessed_input)\n",
    "\n",
    "    sentiment = 'Positive' if prediction[0][0] > 0.5 else 'Negative'\n",
    "    \n",
    "    return sentiment, prediction[0][0]\n",
    "\n"
   ]
  },
  {
   "cell_type": "code",
   "execution_count": 7,
   "metadata": {},
   "outputs": [
    {
     "name": "stdout",
     "output_type": "stream",
     "text": [
      "\u001b[1m1/1\u001b[0m \u001b[32m━━━━━━━━━━━━━━━━━━━━\u001b[0m\u001b[37m\u001b[0m \u001b[1m4s\u001b[0m 4s/step\n",
      "Review: This movie was fantastic! The acting was great and the plot was thrilling.\n",
      "Sentiment: Negative\n",
      "Prediction Score: 0.4431767463684082\n"
     ]
    }
   ],
   "source": [
    "# Step 4: User Input and Prediction\n",
    "# Example review for prediction\n",
    "example_review = \"This movie was fantastic! The acting was great and the plot was thrilling.\"\n",
    "\n",
    "sentiment,score=predict_sentiment(example_review)\n",
    "\n",
    "print(f'Review: {example_review}')\n",
    "print(f'Sentiment: {sentiment}')\n",
    "print(f'Prediction Score: {score}')"
   ]
  },
  {
   "cell_type": "code",
   "execution_count": null,
   "metadata": {},
   "outputs": [],
   "source": []
  },
  {
   "cell_type": "code",
   "execution_count": null,
   "metadata": {},
   "outputs": [],
   "source": []
  },
  {
   "cell_type": "code",
   "execution_count": null,
   "metadata": {},
   "outputs": [],
   "source": []
  },
  {
   "cell_type": "code",
   "execution_count": null,
   "metadata": {},
   "outputs": [],
   "source": []
  }
 ],
 "metadata": {
  "kernelspec": {
   "display_name": "myenv",
   "language": "python",
   "name": "python3"
  },
  "language_info": {
   "codemirror_mode": {
    "name": "ipython",
    "version": 3
   },
   "file_extension": ".py",
   "mimetype": "text/x-python",
   "name": "python",
   "nbconvert_exporter": "python",
   "pygments_lexer": "ipython3",
   "version": "3.12.7"
  }
 },
 "nbformat": 4,
 "nbformat_minor": 2
}
